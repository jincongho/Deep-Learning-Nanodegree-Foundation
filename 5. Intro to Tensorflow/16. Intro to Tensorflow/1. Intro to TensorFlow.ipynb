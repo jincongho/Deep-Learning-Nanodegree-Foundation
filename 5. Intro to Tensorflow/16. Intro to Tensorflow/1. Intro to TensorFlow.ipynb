{
 "cells": [
  {
   "cell_type": "markdown",
   "metadata": {},
   "source": [
    "# Intro to TensorFlow\n",
    "\n",
    "Vincent Vanhoucke, Principal Scientist at Google Brain, introduces you to deep learning and Tensorflow, Google's deep learning framework.\n",
    "\n",
    "## Hello, Tensor World!"
   ]
  },
  {
   "cell_type": "code",
   "execution_count": 1,
   "metadata": {
    "collapsed": false
   },
   "outputs": [
    {
     "name": "stdout",
     "output_type": "stream",
     "text": [
      "b'Hello, World!'\n"
     ]
    }
   ],
   "source": [
    "import tensorflow as tf\n",
    "\n",
    "# Values are encapsulated in an object called a tensor\n",
    "hello_constant = tf.constant(\"Hello, World!\")\n",
    "int_constant   = tf.constant(1234)\n",
    "array_constant = tf.constant([[10,20], [30,40]])\n",
    "\n",
    "# Session is an environment for running computational graph built with TF API\n",
    "with tf.Session() as sess:\n",
    "    output = sess.run(hello_constant)\n",
    "    print(output)"
   ]
  },
  {
   "cell_type": "markdown",
   "metadata": {},
   "source": [
    "## Input"
   ]
  },
  {
   "cell_type": "code",
   "execution_count": 2,
   "metadata": {
    "collapsed": false
   },
   "outputs": [],
   "source": [
    "x = tf.placeholder(tf.string)\n",
    "y = tf.placeholder(tf.int32)\n",
    "\n",
    "with tf.Session() as sess:\n",
    "    output = sess.run(x, feed_dict={x: 'Hello, World!', y: 20})"
   ]
  },
  {
   "cell_type": "markdown",
   "metadata": {},
   "source": [
    "## Math"
   ]
  },
  {
   "cell_type": "code",
   "execution_count": 3,
   "metadata": {
    "collapsed": false
   },
   "outputs": [
    {
     "name": "stdout",
     "output_type": "stream",
     "text": [
      "2\n"
     ]
    }
   ],
   "source": [
    "# z = x/y - 10\n",
    "x = tf.placeholder(tf.int32)\n",
    "y = tf.placeholder(tf.int32)\n",
    "z = tf.subtract(tf.cast(tf.divide(x,y), tf.int32), tf.constant(10))\n",
    "\n",
    "with tf.Session() as sess:\n",
    "    output = sess.run(z, feed_dict={x: 60, y: 5})\n",
    "    print(output)"
   ]
  },
  {
   "cell_type": "markdown",
   "metadata": {},
   "source": [
    "## Linear Classifier for MNIST dataset\n",
    "\n",
    "### Basics Linear Function"
   ]
  },
  {
   "cell_type": "code",
   "execution_count": 4,
   "metadata": {
    "collapsed": true
   },
   "outputs": [],
   "source": [
    "# Variables to represent weights and bias\n",
    "x = tf.Variable(5)\n",
    "init = tf.global_variables_initializer()\n",
    "with tf.Session() as sess:\n",
    "    sess.run(init)\n",
    "    \n",
    "# Generate random numbers from a normal distribution for weights\n",
    "n_features = 120\n",
    "n_labels = 5\n",
    "weights = tf.Variable(tf.truncated_normal((n_features, n_labels)))\n",
    "\n",
    "# Generate zeros\n",
    "bias = tf.Variable(tf.zeros(n_labels))"
   ]
  },
  {
   "cell_type": "markdown",
   "metadata": {},
   "source": [
    "### Basic Implementation"
   ]
  },
  {
   "cell_type": "code",
   "execution_count": 5,
   "metadata": {
    "collapsed": false
   },
   "outputs": [
    {
     "name": "stdout",
     "output_type": "stream",
     "text": [
      "Extracting mnist_tmp/train-images-idx3-ubyte.gz\n",
      "Extracting mnist_tmp/train-labels-idx1-ubyte.gz\n",
      "Extracting mnist_tmp/t10k-images-idx3-ubyte.gz\n",
      "Extracting mnist_tmp/t10k-labels-idx1-ubyte.gz\n",
      "Loss: 3.845045328140259\n"
     ]
    }
   ],
   "source": [
    "from tensorflow.examples.tutorials.mnist import input_data\n",
    "\n",
    "# Prepare MNIST dataset\n",
    "def mnist_features_labels(n_labels):\n",
    "    '''\n",
    "    Get the first <n> labels from the MNIST dataset\n",
    "    :param n_labels: Number of labels to use\n",
    "    :return: Tuple of feature list and label list\n",
    "    '''\n",
    "    mnist_features = []\n",
    "    mnist_labels = []\n",
    "    \n",
    "    mnist = input_data.read_data_sets('tmp', one_hot=True)\n",
    "    \n",
    "    # only looking at first 10000 images\n",
    "    for mnist_feature, mnist_label in zip(*mnist.train.next_batch(10000)):\n",
    "        # only looking at up to <n>th labels\n",
    "        if mnist_label[:n_labels].any():\n",
    "            mnist_features.append(mnist_feature)\n",
    "            mnist_labels.append(mnist_label[:n_labels])\n",
    "            \n",
    "    return mnist_features, mnist_labels\n",
    "\n",
    "n_features = 28 * 28\n",
    "n_labels = 3\n",
    "\n",
    "features = tf.placeholder(tf.float32)\n",
    "labels = tf.placeholder(tf.float32)\n",
    "\n",
    "train_features, train_labels = mnist_features_labels(n_labels)\n",
    "\n",
    "# Initialise Variables and Linear Function\n",
    "w = tf.Variable(tf.truncated_normal((n_features, n_labels)))\n",
    "b = tf.Variable(tf.zeros(n_labels))\n",
    "\n",
    "logits = tf.add(tf.matmul(features, w), b)\n",
    "\n",
    "# Hyperparameters\n",
    "learning_rate = 0.08\n",
    "\n",
    "init = tf.global_variables_initializer()\n",
    "\n",
    "with tf.Session() as sess:\n",
    "    sess.run(init)\n",
    "    \n",
    "    # Softmax Activation Function\n",
    "    prediction = tf.nn.softmax(logits)\n",
    "    \n",
    "    # Cross Entropy Cost Function\n",
    "    cross_entropy = -tf.reduce_sum(labels * tf.log(prediction), reduction_indices=1)\n",
    "    \n",
    "    # Training Loss\n",
    "    loss = tf.reduce_mean(cross_entropy)\n",
    "    \n",
    "    # Gradient Descent\n",
    "    optimizer = tf.train.GradientDescentOptimizer(learning_rate).minimize(loss)\n",
    "    \n",
    "    # Run optimizer and get loss\n",
    "    _, l = sess.run(\n",
    "            [optimizer, loss],\n",
    "            feed_dict={features: train_features, labels: train_labels})\n",
    "    \n",
    "print('Loss: {}'.format(l))"
   ]
  },
  {
   "cell_type": "markdown",
   "metadata": {},
   "source": [
    "###  Softmax Activation Function"
   ]
  },
  {
   "cell_type": "code",
   "execution_count": 6,
   "metadata": {
    "collapsed": false
   },
   "outputs": [
    {
     "name": "stdout",
     "output_type": "stream",
     "text": [
      "[ 0.65900117  0.24243298  0.09856589]\n"
     ]
    }
   ],
   "source": [
    "logit_data = [2.0, 1.0, 0.1]\n",
    "logits = tf.placeholder(tf.float32)\n",
    "\n",
    "softmax = tf.nn.softmax(logits)\n",
    "\n",
    "with tf.Session() as sess:\n",
    "    output = sess.run(softmax, feed_dict={logits: logit_data})\n",
    "    print(output)"
   ]
  },
  {
   "cell_type": "markdown",
   "metadata": {},
   "source": [
    "### One-Hot Encoding with Scikit-Learn"
   ]
  },
  {
   "cell_type": "code",
   "execution_count": 7,
   "metadata": {
    "collapsed": false
   },
   "outputs": [
    {
     "data": {
      "text/plain": [
       "array([[1, 0, 0, 0, 0],\n",
       "       [0, 0, 0, 0, 1],\n",
       "       [0, 0, 1, 0, 0],\n",
       "       [0, 1, 0, 0, 0],\n",
       "       [1, 0, 0, 0, 0],\n",
       "       [0, 0, 0, 1, 0],\n",
       "       [0, 1, 0, 0, 0],\n",
       "       [1, 0, 0, 0, 0],\n",
       "       [0, 0, 1, 0, 0]])"
      ]
     },
     "execution_count": 7,
     "metadata": {},
     "output_type": "execute_result"
    }
   ],
   "source": [
    "from sklearn import preprocessing\n",
    "import numpy as np\n",
    "\n",
    "labels = np.array([1,5,3,2,1,4,2,1,3])\n",
    "\n",
    "lb = preprocessing.LabelBinarizer()\n",
    "lb.fit(labels)\n",
    "lb.transform(labels)"
   ]
  },
  {
   "cell_type": "markdown",
   "metadata": {},
   "source": [
    "### Cross Entropy Cost Function"
   ]
  },
  {
   "cell_type": "code",
   "execution_count": 8,
   "metadata": {
    "collapsed": false
   },
   "outputs": [
    {
     "name": "stdout",
     "output_type": "stream",
     "text": [
      "0.356675\n"
     ]
    }
   ],
   "source": [
    "softmax_data = [0.7, 0.2, 0.1]\n",
    "one_hot_data = [1.0, 0.0, 0.0]\n",
    "\n",
    "softmax = tf.placeholder(tf.float32)\n",
    "one_hot = tf.placeholder(tf.float32)\n",
    "\n",
    "cross_entropy = -tf.reduce_sum(tf.multiply(one_hot, tf.log(softmax)))\n",
    "\n",
    "with tf.Session() as sess:\n",
    "    print(sess.run(cross_entropy, feed_dict={softmax: softmax_data, one_hot: one_hot_data}))"
   ]
  },
  {
   "cell_type": "markdown",
   "metadata": {},
   "source": [
    "## Numerical Stability"
   ]
  },
  {
   "cell_type": "code",
   "execution_count": 9,
   "metadata": {
    "collapsed": false
   },
   "outputs": [
    {
     "name": "stdout",
     "output_type": "stream",
     "text": [
      "0.95367431640625\n"
     ]
    }
   ],
   "source": [
    "a = 1000000000\n",
    "for i in range(1000000):\n",
    "    a = a + 1e-6\n",
    "print(a - 1000000000)"
   ]
  },
  {
   "cell_type": "markdown",
   "metadata": {},
   "source": [
    "## Mini-batch and Epochs"
   ]
  },
  {
   "cell_type": "code",
   "execution_count": 10,
   "metadata": {
    "collapsed": true
   },
   "outputs": [],
   "source": [
    "def batches(batch_size, features, labels):\n",
    "    assert len(features) == len(labels)\n",
    "    out_batches = []\n",
    "    \n",
    "    sample_size = len(features)\n",
    "    for start_i in range(0, sample_size, batch_size):\n",
    "        end_i = start_i + batch_size\n",
    "        batch = [features[start_i:end_i], labels[start_i:end_i]]\n",
    "        out_batches.append(batch)\n",
    "    \n",
    "    return out_batches"
   ]
  },
  {
   "cell_type": "code",
   "execution_count": 11,
   "metadata": {
    "collapsed": false
   },
   "outputs": [
    {
     "name": "stdout",
     "output_type": "stream",
     "text": [
      "Extracting mnist_tmp/train-images-idx3-ubyte.gz\n",
      "Extracting mnist_tmp/train-labels-idx1-ubyte.gz\n",
      "Extracting mnist_tmp/t10k-images-idx3-ubyte.gz\n",
      "Extracting mnist_tmp/t10k-labels-idx1-ubyte.gz\n",
      "Epoch: 0    - Cost: 1.64     Valid Accuracy: 0.73 \n",
      "Epoch: 1    - Cost: 1.13     Valid Accuracy: 0.801\n",
      "Epoch: 2    - Cost: 0.96     Valid Accuracy: 0.828\n",
      "Epoch: 3    - Cost: 0.867    Valid Accuracy: 0.845\n",
      "Epoch: 4    - Cost: 0.805    Valid Accuracy: 0.856\n",
      "Epoch: 5    - Cost: 0.759    Valid Accuracy: 0.866\n",
      "Epoch: 6    - Cost: 0.722    Valid Accuracy: 0.872\n",
      "Epoch: 7    - Cost: 0.691    Valid Accuracy: 0.877\n",
      "Epoch: 8    - Cost: 0.665    Valid Accuracy: 0.88 \n",
      "Epoch: 9    - Cost: 0.642    Valid Accuracy: 0.883\n",
      "Test Accuracy: 0.873199999332428\n",
      "\n"
     ]
    }
   ],
   "source": [
    "# Hyperparameters\n",
    "learning_rate = 0.1\n",
    "batch_size = 128\n",
    "epochs = 10\n",
    "\n",
    "# Prepare MNIST dataset\n",
    "n_input = 28 * 28\n",
    "n_classes = 10\n",
    "\n",
    "mnist = input_data.read_data_sets('mnist_tmp', one_hot=True)\n",
    "\n",
    "train_features = mnist.train.images\n",
    "valid_features = mnist.validation.images\n",
    "test_features = mnist.test.images\n",
    "\n",
    "train_labels = mnist.train.labels.astype(np.float32)\n",
    "valid_labels = mnist.validation.labels.astype(np.float32)\n",
    "test_labels = mnist.test.labels.astype(np.float32)\n",
    "\n",
    "features = tf.placeholder(tf.float32, [None, n_input])\n",
    "labels = tf.placeholder(tf.float32, [None, n_classes])\n",
    "\n",
    "# Initialise Variables\n",
    "weights = tf.Variable(tf.random_normal([n_input, n_classes]))\n",
    "bias    = tf.Variable(tf.random_normal([n_classes]))\n",
    "\n",
    "logits  = tf.add(tf.matmul(features, weights), bias)\n",
    "learn   = tf.placeholder(tf.float32)\n",
    "cost    = tf.reduce_mean(tf.nn.softmax_cross_entropy_with_logits(logits=logits, labels=labels))\n",
    "gdo     = tf.train.GradientDescentOptimizer(learning_rate=learn).minimize(cost)\n",
    "\n",
    "correct_prediction = tf.equal(tf.argmax(logits, 1), tf.argmax(labels,1))\n",
    "accuracy = tf.reduce_mean(tf.cast(correct_prediction, tf.float32))\n",
    "\n",
    "init = tf.global_variables_initializer()\n",
    "\n",
    "with tf.Session() as sess:\n",
    "    sess.run(init)\n",
    "    \n",
    "    train_batches = batches(batch_size, train_features, train_labels)\n",
    "\n",
    "    # Epoch Loop\n",
    "    for epoch_i in range(epochs):\n",
    "        #Batch Loop\n",
    "        for batch_features, batch_labels in batches(batch_size, train_features, train_labels):\n",
    "            sess.run(gdo, feed_dict={features: batch_features, labels: batch_labels, learn: learning_rate})\n",
    "        \n",
    "        current_cost = sess.run(cost, feed_dict={features: batch_features, labels: batch_labels})\n",
    "        valid_accuracy = sess.run(accuracy, feed_dict={features: valid_features, labels: valid_labels})\n",
    "        print('Epoch: {:<4} - Cost: {:<8.3} Valid Accuracy: {:<5.3}'.format(\n",
    "            epoch_i,\n",
    "            current_cost,\n",
    "            valid_accuracy\n",
    "            ))\n",
    "    \n",
    "    test_accuracy = sess.run(accuracy, feed_dict={features: test_features, labels: test_labels})\n",
    "    \n",
    "print('Test Accuracy: {}\\n'.format(test_accuracy))"
   ]
  }
 ],
 "metadata": {
  "kernelspec": {
   "display_name": "Python 3",
   "language": "python",
   "name": "python3"
  },
  "language_info": {
   "codemirror_mode": {
    "name": "ipython",
    "version": 3
   },
   "file_extension": ".py",
   "mimetype": "text/x-python",
   "name": "python",
   "nbconvert_exporter": "python",
   "pygments_lexer": "ipython3",
   "version": "3.6.0"
  }
 },
 "nbformat": 4,
 "nbformat_minor": 2
}
