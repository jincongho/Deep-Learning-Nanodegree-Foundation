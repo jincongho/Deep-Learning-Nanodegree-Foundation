{
 "cells": [
  {
   "cell_type": "markdown",
   "metadata": {
    "deletable": true,
    "editable": true
   },
   "source": [
    "\n",
    "# 0) Importe Libreries"
   ]
  },
  {
   "cell_type": "code",
   "execution_count": 3,
   "metadata": {
    "collapsed": true,
    "deletable": true,
    "editable": true
   },
   "outputs": [],
   "source": [
    "import pandas as pd\n",
    "import numpy as np\n",
    "import tensorflow as tf\n",
    "import matplotlib.pyplot as plt"
   ]
  },
  {
   "cell_type": "markdown",
   "metadata": {
    "deletable": true,
    "editable": true
   },
   "source": [
    "# 1) Importe Datasets\n",
    "## a) Extract and clean datasets"
   ]
  },
  {
   "cell_type": "code",
   "execution_count": null,
   "metadata": {
    "collapsed": true,
    "deletable": true,
    "editable": true
   },
   "outputs": [],
   "source": []
  },
  {
   "cell_type": "code",
   "execution_count": 8,
   "metadata": {
    "collapsed": true,
    "deletable": true,
    "editable": true
   },
   "outputs": [],
   "source": [
    "def extract_database(filename):\n",
    "    df = pd.read_csv(filename)\n",
    "\n",
    "    # Table of people\n",
    "    df_p = df.drop_duplicates('iid').set_index('iid').loc[:, 'age':'amb3_1']\n",
    "    df_p.loc[:, 'attr1_1':'amb3_1'] = df.loc[:, 'attr1_1':'amb3_1'].replace(to_replace=pd.NaT, value=0.0)\n",
    "    df_p = df_p.drop(\"mn_sat\", axis=1)\n",
    "    df_p = df_p.drop(\"undergra\", axis=1)\n",
    "    df_p = df_p.drop(\"tuition\", axis=1)\n",
    "    df_p = df_p.drop(\"from\", axis=1)\n",
    "    df_p = df_p.drop(\"zipcode\", axis=1)\n",
    "    df_p = df_p.drop(\"income\", axis=1)\n",
    "    df_p = df_p.drop(\"field\", axis=1)\n",
    "    df_p = df_p.drop(\"field_cd\", axis=1)\n",
    "    df_p = df_p.drop(\"career\", axis=1)\n",
    "    df_p = df_p.drop(\"attr4_1\", axis=1)\n",
    "    df_p = df_p.drop(\"sinc4_1\", axis=1)\n",
    "    df_p = df_p.drop(\"intel4_1\", axis=1)\n",
    "    df_p = df_p.drop(\"fun4_1\", axis=1)\n",
    "    df_p = df_p.drop(\"amb4_1\", axis=1)\n",
    "    df_p = df_p.drop(\"shar4_1\", axis=1)\n",
    "    df_p = df_p.dropna(axis=0)\n",
    "\n",
    "    # Table of meeting and result\n",
    "    df_m = df.loc[:, ['iid', 'pid', 'match']]\n",
    "    df_m = df_m[df_m[\"iid\"].isin(list(df_p.index.values))]\n",
    "    df_m = df_m[df_m[\"pid\"].isin(list(df_p.index.values))]\n",
    "    df_m = df_m.reset_index(drop=True)\n",
    "\n",
    "    return df_p, df_m "
   ]
  },
  {
   "cell_type": "markdown",
   "metadata": {
    "deletable": true,
    "editable": true
   },
   "source": [
    "## b) Normalize datasets"
   ]
  },
  {
   "cell_type": "code",
   "execution_count": 3,
   "metadata": {
    "collapsed": true,
    "deletable": true,
    "editable": true
   },
   "outputs": [],
   "source": [
    "class Normalizer:\n",
    "    def __init__(self, training_array):\n",
    "        self.__mini = np.min(training_array, axis=0)\n",
    "        maxi = np.max(training_array, axis=0)\n",
    "        self.__delta = maxi - self.__mini\n",
    "\n",
    "    def __call__(self, array):\n",
    "        return np.apply_along_axis(lambda x : (x-self.__mini)/self.__delta, 1, array)"
   ]
  },
  {
   "cell_type": "markdown",
   "metadata": {
    "deletable": true,
    "editable": true
   },
   "source": [
    "## c) Reduce datasets"
   ]
  },
  {
   "cell_type": "code",
   "execution_count": 4,
   "metadata": {
    "collapsed": true,
    "deletable": true,
    "editable": true
   },
   "outputs": [],
   "source": [
    "class PCA:\n",
    "    def get_projection_matrix(self, array, n):\n",
    "        corr = np.cov(array, rowvar=False)\n",
    "        v, w = np.linalg.eig(corr)\n",
    "        \n",
    "        index = np.argsort(v)[::-1]\n",
    "        return w[:, index[:n]]\n",
    "    \n",
    "    def __init__(self, training_array, n):\n",
    "        self.__proj = self.get_projection_matrix(training_array, n)\n",
    "\n",
    "    def __call__(self, array):\n",
    "        return self.__proj.T.dot(array.T).T"
   ]
  },
  {
   "cell_type": "markdown",
   "metadata": {
    "deletable": true,
    "editable": true
   },
   "source": [
    "## d) Piping and processing"
   ]
  },
  {
   "cell_type": "markdown",
   "metadata": {
    "deletable": true,
    "editable": true
   },
   "source": [
    "Preprocess, PCA and Normalizer instances containts values that are related to the model, they have to be saved for future use in production !"
   ]
  },
  {
   "cell_type": "code",
   "execution_count": 5,
   "metadata": {
    "collapsed": true,
    "deletable": true,
    "editable": true
   },
   "outputs": [],
   "source": [
    "class Preprocess:\n",
    "    def __init__(self, df, dim):\n",
    "        self.__df = df\n",
    "        self.__norm = Normalizer(self.__df.values)\n",
    "        self.__red = PCA(self.__norm(self.__df.values), dim)\n",
    "\n",
    "    def __call__(self, iid):\n",
    "        return self.__red(self.__norm(self.__df.loc[iid, :].values))"
   ]
  },
  {
   "cell_type": "code",
   "execution_count": 6,
   "metadata": {
    "collapsed": true,
    "deletable": true,
    "editable": true
   },
   "outputs": [],
   "source": [
    "PEOPLE_DIM = 10\n",
    "HIDDEN = 32\n",
    "BATCH_SIZE = 60\n",
    "EPOCHS = 10000"
   ]
  },
  {
   "cell_type": "code",
   "execution_count": 9,
   "metadata": {
    "collapsed": false,
    "deletable": true,
    "editable": true
   },
   "outputs": [],
   "source": [
    "df_p, df_m = extract_database(\"Speed Dating Data.csv\")"
   ]
  },
  {
   "cell_type": "code",
   "execution_count": 8,
   "metadata": {
    "collapsed": true,
    "deletable": true,
    "editable": true
   },
   "outputs": [],
   "source": [
    "red = Preprocess(df_p.loc[:, 'attr1_1':'amb3_1'], PEOPLE_DIM)\n",
    "blue = Preprocess(df_p.loc[:, 'date':'yoga'], PEOPLE_DIM)\n",
    "vectorize = lambda x : np.concatenate((red(x), blue(x)), axis=1)"
   ]
  },
  {
   "cell_type": "code",
   "execution_count": 9,
   "metadata": {
    "collapsed": true,
    "deletable": true,
    "editable": true
   },
   "outputs": [],
   "source": [
    "# Batches generator, provide random batches of given size\n",
    "def gen_profile():\n",
    "    gen = df_m.sample(frac=1).reset_index().iterrows()\n",
    "    for j in range(EPOCHS):\n",
    "        iid, pid, match = [], [], []\n",
    "        for i in range(BATCH_SIZE):\n",
    "            try:\n",
    "                row = next(gen)[1]\n",
    "            except StopIteration:\n",
    "                gen = df_m.sample(frac=1).reset_index().iterrows()\n",
    "                row = next(gen)[1]\n",
    "            iid.append(int(row.loc['iid']))\n",
    "            pid.append(int(row.loc['pid']))\n",
    "            match.append(row.loc['match'])\n",
    "        \n",
    "        yield np.float32(match).reshape([BATCH_SIZE, 1]), vectorize(iid), vectorize(pid)"
   ]
  },
  {
   "cell_type": "markdown",
   "metadata": {
    "deletable": true,
    "editable": true
   },
   "source": [
    "# 2) Model definition\n",
    "The Goal of this model isn't to predict a probaility of finding someone. This model take two users profile as input to predict if they can matche each other. Because those inputs are mutable, the model have to be symetric to be realy efficient."
   ]
  },
  {
   "cell_type": "code",
   "execution_count": 10,
   "metadata": {
    "collapsed": false,
    "deletable": true,
    "editable": true
   },
   "outputs": [
    {
     "name": "stdout",
     "output_type": "stream",
     "text": [
      "Total vars: ~1.34k\n",
      "\n"
     ]
    }
   ],
   "source": [
    "# Placeholders\n",
    "iid_ph = tf.placeholder(np.float32, shape=[None, PEOPLE_DIM*2])\n",
    "pid_ph = tf.placeholder(np.float32, shape=[None, PEOPLE_DIM*2])\n",
    "match_ph = tf.placeholder(np.float32, shape=[None, 1])\n",
    "\n",
    "# Model\n",
    "cont_ab = tf.concat_v2((iid_ph, pid_ph), axis=1)\n",
    "cont_ba = tf.concat_v2((pid_ph, iid_ph), axis=1)\n",
    "\n",
    "w_1 = tf.Variable(tf.truncated_normal([PEOPLE_DIM*4, HIDDEN], stddev=0.1))\n",
    "b_1 = tf.Variable(tf.truncated_normal([HIDDEN], stddev=0.1))\n",
    "l_h_ab = tf.nn.softplus(tf.matmul(cont_ab, w_1) + b_1)\n",
    "l_h_ba = tf.nn.softplus(tf.matmul(cont_ba, w_1) + b_1)\n",
    "\n",
    "w_2 = tf.Variable(tf.truncated_normal([HIDDEN, 1], stddev=0.1))\n",
    "b_2 = tf.Variable(tf.truncated_normal([1], stddev=0.1))\n",
    "l_2 = tf.matmul(l_h_ab, w_2) + tf.matmul(l_h_ba, w_2) + b_2\n",
    "logits = tf.sigmoid(l_2)\n",
    "\n",
    "# Trainer\n",
    "print(\"Total vars: ~{:.2f}k\\n\".format((4*PEOPLE_DIM*HIDDEN + 2*HIDDEN + 1)/1000))\n",
    "global_step = tf.Variable(0, trainable=False)\n",
    "learing_rate = tf.train.exponential_decay(0.1, global_step, 1000, 0.8, staircase=True)\n",
    "loss = tf.reduce_mean(tf.nn.sigmoid_cross_entropy_with_logits(logits=l_2, targets=match_ph))\n",
    "trainer_step = tf.train.MomentumOptimizer(learing_rate, 0.9).minimize(loss, global_step=global_step)"
   ]
  },
  {
   "cell_type": "markdown",
   "metadata": {
    "deletable": true,
    "editable": true
   },
   "source": [
    "# 3) Processing\n",
    "Burn Baby, Burn (some GPUs). Training and lookup table computation."
   ]
  },
  {
   "cell_type": "code",
   "execution_count": 11,
   "metadata": {
    "collapsed": false,
    "deletable": true,
    "editable": true
   },
   "outputs": [
    {
     "name": "stdout",
     "output_type": "stream",
     "text": [
      "Training...\n",
      "0.431305\n",
      "0.410977\n",
      "0.327745\n",
      "0.325008\n",
      "0.195164\n",
      "0.191231\n",
      "0.35098\n",
      "0.18574\n",
      "0.292437\n",
      "0.174357\n",
      "\n",
      "\n",
      "Looking for hope...\n"
     ]
    }
   ],
   "source": [
    "with tf.Session() as sess:\n",
    "    tf.global_variables_initializer().run()\n",
    "\n",
    "    # Train the model\n",
    "    print(\"Training...\")\n",
    "    i = 0\n",
    "    for profile in gen_profile():\n",
    "        trainer_step.run(feed_dict={iid_ph: profile[1], pid_ph: profile[2], match_ph: profile[0]})\n",
    "\n",
    "        if i % 1000 == 0:\n",
    "            print(loss.eval(feed_dict={iid_ph: profile[1], pid_ph: profile[2], match_ph: profile[0]}))\n",
    "        i += 1\n",
    "    print(\"\\n\")\n",
    "\n",
    "    # Let's find love <3\n",
    "    # It fill a lookup table, it's not the goal, but it's useful to dispay results\n",
    "    print(\"Looking for hope...\")\n",
    "    l_df_p = len(df_p)\n",
    "    mp = np.ndarray((l_df_p, l_df_p), dtype=np.float32)  # Map of result\n",
    "    for i in range(l_df_p):\n",
    "        pid = df_p.index[i]\n",
    "        for j in range(l_df_p):\n",
    "            iid = df_p.index[j]\n",
    "            mp[i, j] = logits.eval(feed_dict={iid_ph: vectorize([iid]), pid_ph: vectorize([pid])})[0, 0]\n",
    "    print(\"Done\")\n"
   ]
  },
  {
   "cell_type": "markdown",
   "metadata": {
    "deletable": true,
    "editable": true
   },
   "source": [
    "# 3) Test Model"
   ]
  },
  {
   "cell_type": "code",
   "execution_count": 12,
   "metadata": {
    "collapsed": false,
    "deletable": true,
    "editable": true
   },
   "outputs": [
    {
     "name": "stdout",
     "output_type": "stream",
     "text": [
      "Avg error: 9.46%\n"
     ]
    }
   ],
   "source": [
    "# Model Testing\n",
    "def find(i):\n",
    "    n = 0\n",
    "    for j in list(df_p.index):\n",
    "        if i==j:\n",
    "            return n\n",
    "        n += 1\n",
    "        \n",
    "error = 0.0\n",
    "for index, rows in df_m.iterrows():\n",
    "    error += abs(rows[\"match\"] - mp[find(rows[\"iid\"]), find(rows[\"pid\"])])\n",
    "print(\"Avg error: {:.2f}%\".format(100 * error / len(df_m)))"
   ]
  },
  {
   "cell_type": "markdown",
   "metadata": {
    "deletable": true,
    "editable": true
   },
   "source": [
    "# 4) Data Visualisation"
   ]
  },
  {
   "cell_type": "code",
   "execution_count": 14,
   "metadata": {
    "collapsed": false,
    "deletable": true,
    "editable": true,
    "scrolled": true
   },
   "outputs": [
    {
     "data": {
      "image/png": "[encoded data removed]",
      "text/plain": [
       "<matplotlib.figure.Figure at 0x1e5587bf198>"
      ]
     },
     "metadata": {},
     "output_type": "display_data"
    }
   ],
   "source": [
    "# Display the Love map\n",
    "plt.imshow(mp)\n",
    "plt.show()"
   ]
  },
  {
   "cell_type": "code",
   "execution_count": null,
   "metadata": {
    "collapsed": true,
    "deletable": true,
    "editable": true
   },
   "outputs": [],
   "source": []
  }
 ],
 "metadata": {
  "kernelspec": {
   "display_name": "Python 3",
   "language": "python",
   "name": "python3"
  },
  "language_info": {
   "codemirror_mode": {
    "name": "ipython",
    "version": 3
   },
   "file_extension": ".py",
   "mimetype": "text/x-python",
   "name": "python",
   "nbconvert_exporter": "python",
   "pygments_lexer": "ipython3",
   "version": "3.6.0"
  }
 },
 "nbformat": 4,
 "nbformat_minor": 2
}
