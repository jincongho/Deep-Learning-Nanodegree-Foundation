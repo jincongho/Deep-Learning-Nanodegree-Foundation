{
 "cells": [
  {
   "cell_type": "markdown",
   "metadata": {},
   "source": [
    "# Perceptrons\n",
    "\n",
    "In this lesson, you'll dive deeper into the intuition behind Logistic Regression and Neural Networks. You'll also implement gradient descent and backpropagation in python right here in the classroom.\n",
    "\n",
    "## AND Logic Gate"
   ]
  },
  {
   "cell_type": "code",
   "execution_count": 1,
   "metadata": {
    "collapsed": false
   },
   "outputs": [
    {
     "name": "stdout",
     "output_type": "stream",
     "text": [
      "(0, 0): 0 (Correct)\n",
      "(0, 1): 0 (Correct)\n",
      "(1, 0): 0 (Correct)\n",
      "(1, 1): 1 (Correct)\n"
     ]
    }
   ],
   "source": [
    "import pandas as pd\n",
    "\n",
    "# Set weight1, weight2, and bias\n",
    "weight1 = 0.75\n",
    "weight2 = 0.75\n",
    "bias = -1\n",
    "\n",
    "# Training and Validation Data\n",
    "X = [(0, 0), (0, 1), (1, 0), (1, 1)]\n",
    "Y = [False, False, False, True]\n",
    "\n",
    "# Execute Perceptron\n",
    "for x, y in zip(X, Y):\n",
    "    # w1*x1 + w2*x2 + b\n",
    "    linear_combination = weight1 * x[0] + weight2 * x[1] + bias\n",
    "    \n",
    "    # Predict with Activation Step Function\n",
    "    output = int(linear_combination >= 0)\n",
    "    \n",
    "    # Compare\n",
    "    print(x, end=': ')\n",
    "    print(output, end=' ')\n",
    "    print('(Correct)' if output == y else '(Wrong)')"
   ]
  },
  {
   "cell_type": "markdown",
   "metadata": {},
   "source": [
    "## NOT Logic Gate"
   ]
  },
  {
   "cell_type": "code",
   "execution_count": 2,
   "metadata": {
    "collapsed": false
   },
   "outputs": [
    {
     "name": "stdout",
     "output_type": "stream",
     "text": [
      "(0, 0): 1 (Correct)\n",
      "(0, 1): 0 (Correct)\n",
      "(1, 0): 1 (Correct)\n",
      "(1, 1): 0 (Correct)\n"
     ]
    }
   ],
   "source": [
    "# Set weight1, weight2, and bias\n",
    "# Only Use Input 2\n",
    "weight1 = 0\n",
    "weight2 = -1.2\n",
    "bias = 1\n",
    "\n",
    "# Training and Validation Data\n",
    "X = [(0, 0), (0, 1), (1, 0), (1, 1)]\n",
    "Y = [True, False, True, False]\n",
    "\n",
    "# Execute Perceptron\n",
    "for x, y in zip(X, Y):\n",
    "    # w1*x1 + w2*x2 + b\n",
    "    linear_combination = weight1 * x[0] + weight2 * x[1] + bias\n",
    "    \n",
    "    # Predict with Activation Step Function\n",
    "    output = int(linear_combination >= 0)\n",
    "    \n",
    "    # Compare\n",
    "    print(x, end=': ')\n",
    "    print(output, end=' ')\n",
    "    print('(Correct)' if output == y else '(Wrong)')"
   ]
  },
  {
   "cell_type": "markdown",
   "metadata": {},
   "source": [
    "## XOR Logic Gate\n",
    "\n",
    "![XOR Logic Gate](a-b-c-fill-nn.png)\n",
    "\n",
    "## The Simplest Neural Network"
   ]
  },
  {
   "cell_type": "code",
   "execution_count": 3,
   "metadata": {
    "collapsed": false
   },
   "outputs": [
    {
     "name": "stdout",
     "output_type": "stream",
     "text": [
      "Output:\n",
      "0.432907095035\n"
     ]
    }
   ],
   "source": [
    "import numpy as np\n",
    "\n",
    "def sigmoid(x):\n",
    "    return 1 / (1 + np.exp(-x))\n",
    "\n",
    "inputs = np.array([0.7, -0.3])\n",
    "weights = np.array([0.1, 0.8])\n",
    "bias = -0.1\n",
    "\n",
    "# Calculate the output\n",
    "output = sigmoid(np.dot(inputs, weights.T) + bias)\n",
    "\n",
    "print('Output:')\n",
    "print(output)"
   ]
  }
 ],
 "metadata": {
  "kernelspec": {
   "display_name": "Python 3",
   "language": "python",
   "name": "python3"
  },
  "language_info": {
   "codemirror_mode": {
    "name": "ipython",
    "version": 3
   },
   "file_extension": ".py",
   "mimetype": "text/x-python",
   "name": "python",
   "nbconvert_exporter": "python",
   "pygments_lexer": "ipython3",
   "version": "3.6.0"
  }
 },
 "nbformat": 4,
 "nbformat_minor": 2
}
